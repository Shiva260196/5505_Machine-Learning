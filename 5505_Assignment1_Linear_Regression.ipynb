{
  "nbformat": 4,
  "nbformat_minor": 0,
  "metadata": {
    "colab": {
      "name": "5505_Assignment1_Linear_Regression.ipynb",
      "provenance": [],
      "collapsed_sections": []
    },
    "kernelspec": {
      "name": "python3",
      "display_name": "Python 3"
    },
    "language_info": {
      "name": "python"
    }
  },
  "cells": [
    {
      "cell_type": "markdown",
      "metadata": {
        "id": "y3JfRQCVTJKT"
      },
      "source": [
        "# 5501 - Assignment_1: Linear Regression\n",
        "\n",
        "## `Name: Shiva Chakravarthy Gollapudi`\n",
        "## `Student ID: 11468697`\n"
      ]
    },
    {
      "cell_type": "code",
      "metadata": {
        "id": "NPCyY7DLRGl9"
      },
      "source": [
        "import warnings\n",
        "warnings.filterwarnings('ignore') #ignorning warings"
      ],
      "execution_count": null,
      "outputs": []
    },
    {
      "cell_type": "code",
      "metadata": {
        "id": "iN89b6jgRpmO"
      },
      "source": [
        "#instal libraries\n",
        "import numpy as np\n",
        "import pandas as pd\n",
        "import matplotlib.pyplot as plt\n",
        "import seaborn as sns\n",
        "import math"
      ],
      "execution_count": null,
      "outputs": []
    },
    {
      "cell_type": "code",
      "metadata": {
        "colab": {
          "base_uri": "https://localhost:8080/",
          "height": 204
        },
        "id": "8sItAnl6Rpvq",
        "outputId": "f80a73cc-e20b-42af-ed42-0818efbbcd51"
      },
      "source": [
        "#Import input data\n",
        "data = pd.read_csv('monet.csv')\n",
        "data.head()"
      ],
      "execution_count": null,
      "outputs": [
        {
          "output_type": "execute_result",
          "data": {
            "text/html": [
              "<div>\n",
              "<style scoped>\n",
              "    .dataframe tbody tr th:only-of-type {\n",
              "        vertical-align: middle;\n",
              "    }\n",
              "\n",
              "    .dataframe tbody tr th {\n",
              "        vertical-align: top;\n",
              "    }\n",
              "\n",
              "    .dataframe thead th {\n",
              "        text-align: right;\n",
              "    }\n",
              "</style>\n",
              "<table border=\"1\" class=\"dataframe\">\n",
              "  <thead>\n",
              "    <tr style=\"text-align: right;\">\n",
              "      <th></th>\n",
              "      <th>PRICE</th>\n",
              "      <th>HEIGHT</th>\n",
              "      <th>WIDTH</th>\n",
              "      <th>SIGNED</th>\n",
              "      <th>PICTURE</th>\n",
              "      <th>HOUSE</th>\n",
              "    </tr>\n",
              "  </thead>\n",
              "  <tbody>\n",
              "    <tr>\n",
              "      <th>0</th>\n",
              "      <td>3.993780</td>\n",
              "      <td>21.3</td>\n",
              "      <td>25.6</td>\n",
              "      <td>1</td>\n",
              "      <td>1</td>\n",
              "      <td>1</td>\n",
              "    </tr>\n",
              "    <tr>\n",
              "      <th>1</th>\n",
              "      <td>8.800000</td>\n",
              "      <td>31.9</td>\n",
              "      <td>25.6</td>\n",
              "      <td>1</td>\n",
              "      <td>2</td>\n",
              "      <td>2</td>\n",
              "    </tr>\n",
              "    <tr>\n",
              "      <th>2</th>\n",
              "      <td>0.131694</td>\n",
              "      <td>6.9</td>\n",
              "      <td>15.9</td>\n",
              "      <td>0</td>\n",
              "      <td>3</td>\n",
              "      <td>3</td>\n",
              "    </tr>\n",
              "    <tr>\n",
              "      <th>3</th>\n",
              "      <td>2.037500</td>\n",
              "      <td>25.7</td>\n",
              "      <td>32.0</td>\n",
              "      <td>1</td>\n",
              "      <td>4</td>\n",
              "      <td>2</td>\n",
              "    </tr>\n",
              "    <tr>\n",
              "      <th>4</th>\n",
              "      <td>1.487500</td>\n",
              "      <td>25.7</td>\n",
              "      <td>32.0</td>\n",
              "      <td>1</td>\n",
              "      <td>4</td>\n",
              "      <td>2</td>\n",
              "    </tr>\n",
              "  </tbody>\n",
              "</table>\n",
              "</div>"
            ],
            "text/plain": [
              "      PRICE  HEIGHT  WIDTH  SIGNED  PICTURE  HOUSE \n",
              "0  3.993780    21.3   25.6       1        1       1\n",
              "1  8.800000    31.9   25.6       1        2       2\n",
              "2  0.131694     6.9   15.9       0        3       3\n",
              "3  2.037500    25.7   32.0       1        4       2\n",
              "4  1.487500    25.7   32.0       1        4       2"
            ]
          },
          "metadata": {},
          "execution_count": 51
        }
      ]
    },
    {
      "cell_type": "code",
      "metadata": {
        "colab": {
          "base_uri": "https://localhost:8080/"
        },
        "id": "PaPZrMLERpyV",
        "outputId": "0af064d1-2ed8-45f3-83f9-7a9546156d1b"
      },
      "source": [
        "#Checking for Null values\n",
        "data.isnull().sum()"
      ],
      "execution_count": null,
      "outputs": [
        {
          "output_type": "execute_result",
          "data": {
            "text/plain": [
              "PRICE      0\n",
              "HEIGHT     0\n",
              "WIDTH      0\n",
              "SIGNED     0\n",
              "PICTURE    0\n",
              "HOUSE      0\n",
              "dtype: int64"
            ]
          },
          "metadata": {},
          "execution_count": 52
        }
      ]
    },
    {
      "cell_type": "markdown",
      "metadata": {
        "id": "FTH7PwSQUfP6"
      },
      "source": [
        "So, there is no null values in the input data."
      ]
    },
    {
      "cell_type": "code",
      "metadata": {
        "colab": {
          "base_uri": "https://localhost:8080/",
          "height": 204
        },
        "id": "cid4k2CjRp3b",
        "outputId": "46b97020-914f-4457-9fcb-b569c4502c05"
      },
      "source": [
        "#Transformation of the data\n",
        "#Size = Width * Height\n",
        "data[\"SIZE\"] = data[\"HEIGHT\"] * data[\"WIDTH\"] \n",
        "data.head()"
      ],
      "execution_count": null,
      "outputs": [
        {
          "output_type": "execute_result",
          "data": {
            "text/html": [
              "<div>\n",
              "<style scoped>\n",
              "    .dataframe tbody tr th:only-of-type {\n",
              "        vertical-align: middle;\n",
              "    }\n",
              "\n",
              "    .dataframe tbody tr th {\n",
              "        vertical-align: top;\n",
              "    }\n",
              "\n",
              "    .dataframe thead th {\n",
              "        text-align: right;\n",
              "    }\n",
              "</style>\n",
              "<table border=\"1\" class=\"dataframe\">\n",
              "  <thead>\n",
              "    <tr style=\"text-align: right;\">\n",
              "      <th></th>\n",
              "      <th>PRICE</th>\n",
              "      <th>HEIGHT</th>\n",
              "      <th>WIDTH</th>\n",
              "      <th>SIGNED</th>\n",
              "      <th>PICTURE</th>\n",
              "      <th>HOUSE</th>\n",
              "      <th>SIZE</th>\n",
              "    </tr>\n",
              "  </thead>\n",
              "  <tbody>\n",
              "    <tr>\n",
              "      <th>0</th>\n",
              "      <td>3.993780</td>\n",
              "      <td>21.3</td>\n",
              "      <td>25.6</td>\n",
              "      <td>1</td>\n",
              "      <td>1</td>\n",
              "      <td>1</td>\n",
              "      <td>545.28</td>\n",
              "    </tr>\n",
              "    <tr>\n",
              "      <th>1</th>\n",
              "      <td>8.800000</td>\n",
              "      <td>31.9</td>\n",
              "      <td>25.6</td>\n",
              "      <td>1</td>\n",
              "      <td>2</td>\n",
              "      <td>2</td>\n",
              "      <td>816.64</td>\n",
              "    </tr>\n",
              "    <tr>\n",
              "      <th>2</th>\n",
              "      <td>0.131694</td>\n",
              "      <td>6.9</td>\n",
              "      <td>15.9</td>\n",
              "      <td>0</td>\n",
              "      <td>3</td>\n",
              "      <td>3</td>\n",
              "      <td>109.71</td>\n",
              "    </tr>\n",
              "    <tr>\n",
              "      <th>3</th>\n",
              "      <td>2.037500</td>\n",
              "      <td>25.7</td>\n",
              "      <td>32.0</td>\n",
              "      <td>1</td>\n",
              "      <td>4</td>\n",
              "      <td>2</td>\n",
              "      <td>822.40</td>\n",
              "    </tr>\n",
              "    <tr>\n",
              "      <th>4</th>\n",
              "      <td>1.487500</td>\n",
              "      <td>25.7</td>\n",
              "      <td>32.0</td>\n",
              "      <td>1</td>\n",
              "      <td>4</td>\n",
              "      <td>2</td>\n",
              "      <td>822.40</td>\n",
              "    </tr>\n",
              "  </tbody>\n",
              "</table>\n",
              "</div>"
            ],
            "text/plain": [
              "      PRICE  HEIGHT  WIDTH  SIGNED  PICTURE  HOUSE     SIZE\n",
              "0  3.993780    21.3   25.6       1        1       1  545.28\n",
              "1  8.800000    31.9   25.6       1        2       2  816.64\n",
              "2  0.131694     6.9   15.9       0        3       3  109.71\n",
              "3  2.037500    25.7   32.0       1        4       2  822.40\n",
              "4  1.487500    25.7   32.0       1        4       2  822.40"
            ]
          },
          "metadata": {},
          "execution_count": 53
        }
      ]
    },
    {
      "cell_type": "code",
      "metadata": {
        "colab": {
          "base_uri": "https://localhost:8080/",
          "height": 487
        },
        "id": "hr5T8DvTRp-A",
        "outputId": "5c7a1250-33b3-45a7-d079-fb76df376e44"
      },
      "source": [
        "# finding corelation between the data\n",
        "plt.subplots(figsize = (12,8))\n",
        "sns.heatmap(data.corr(), cmap='YlOrBr', annot=True)\n",
        "plt.show()"
      ],
      "execution_count": null,
      "outputs": [
        {
          "output_type": "display_data",
          "data": {
            "image/png": "[encoded data removed]",
            "text/plain": [
              "<Figure size 864x576 with 2 Axes>"
            ]
          },
          "metadata": {
            "needs_background": "light"
          }
        }
      ]
    },
    {
      "cell_type": "markdown",
      "metadata": {
        "id": "iJkrHesufAiw"
      },
      "source": [
        "From the above map, we conclude that PRICE is correlated to width and size. And also we know that height and width are corelated to size.\n",
        "\n",
        "1.   List item\n",
        "2.   List item\n",
        "\n"
      ]
    },
    {
      "cell_type": "code",
      "metadata": {
        "colab": {
          "base_uri": "https://localhost:8080/",
          "height": 497
        },
        "id": "YOM2iE0JfhPm",
        "outputId": "2ece0bf2-541e-4662-cc34-5baff63e1e1a"
      },
      "source": [
        "#checking the distribution of dependent variable(PRICE)\n",
        "plt.subplots(figsize = (12,8))\n",
        "sns.distplot(data[\"PRICE\"])\n",
        "plt.show(); "
      ],
      "execution_count": null,
      "outputs": [
        {
          "output_type": "display_data",
          "data": {
            "image/png": "[encoded data removed]",
            "text/plain": [
              "<Figure size 864x576 with 1 Axes>"
            ]
          },
          "metadata": {
            "needs_background": "light"
          }
        }
      ]
    },
    {
      "cell_type": "markdown",
      "metadata": {
        "id": "IvUozDwNgboi"
      },
      "source": [
        "From the above figure, we can say that PRICE is not normally distributed and there are few oultliers(Right skewed). "
      ]
    },
    {
      "cell_type": "markdown",
      "metadata": {
        "id": "bm2u9tj8g-to"
      },
      "source": [
        "##  **Model 1:** \n",
        "\n",
        "### Creating a model using Size as the independent variable and Price as dependent variable. \n"
      ]
    },
    {
      "cell_type": "code",
      "metadata": {
        "colab": {
          "base_uri": "https://localhost:8080/",
          "height": 497
        },
        "id": "dKjx1ZtyfhVs",
        "outputId": "e1e9fbc4-cffd-4fc5-f21a-20eae7738cb3"
      },
      "source": [
        "plt.subplots(figsize = (10,8))\n",
        "sns.regplot(x = data.SIZE, y = data.PRICE, ci=None);\n",
        "plt.show();"
      ],
      "execution_count": null,
      "outputs": [
        {
          "output_type": "display_data",
          "data": {
            "image/png": "[encoded data removed]",
            "text/plain": [
              "<Figure size 720x576 with 1 Axes>"
            ]
          },
          "metadata": {
            "needs_background": "light"
          }
        }
      ]
    },
    {
      "cell_type": "markdown",
      "metadata": {
        "id": "6jKthksYjcIN"
      },
      "source": [
        "### Creating Linear regression Model"
      ]
    },
    {
      "cell_type": "code",
      "metadata": {
        "colab": {
          "base_uri": "https://localhost:8080/"
        },
        "id": "YeZ5h-vmfhYM",
        "outputId": "b55ba210-2461-4767-84f4-ee3d405ab577"
      },
      "source": [
        "# Split the data into test and train.\n",
        "# Considering training/test as 80/20.\n",
        "from sklearn.model_selection import train_test_split\n",
        "X_train, X_test, y_train, y_test = train_test_split(data[['SIZE']], data['PRICE'], train_size = 0.8)\n",
        "\n",
        "X_train.shape, X_test.shape, y_train.shape, y_test.shape"
      ],
      "execution_count": null,
      "outputs": [
        {
          "output_type": "execute_result",
          "data": {
            "text/plain": [
              "((344, 1), (86, 1), (344,), (86,))"
            ]
          },
          "metadata": {},
          "execution_count": 62
        }
      ]
    },
    {
      "cell_type": "code",
      "metadata": {
        "id": "gMCuCjhgfhar"
      },
      "source": [
        "# builing Linear Regression\n",
        "\n",
        "from sklearn.linear_model import LinearRegression \n",
        "lr = LinearRegression()\n",
        "mode11  = lr.fit (X_train, y_train) # Fit the model into the training data"
      ],
      "execution_count": null,
      "outputs": []
    },
    {
      "cell_type": "code",
      "metadata": {
        "id": "s_GBjZDVfhcw"
      },
      "source": [
        "y_test_pred = mode11.predict (X_test) # Predicting the y value using x for test data."
      ],
      "execution_count": null,
      "outputs": []
    },
    {
      "cell_type": "code",
      "metadata": {
        "colab": {
          "base_uri": "https://localhost:8080/"
        },
        "id": "sDLIUf2_fhha",
        "outputId": "c2a72cc0-8902-4b74-a1e7-330404e82344"
      },
      "source": [
        "# Calculate the error of the prediction with test data.\n",
        "# Finding mean square error, R2_Score and Root mean square error.\n",
        "\n",
        "from sklearn.metrics import mean_squared_error, r2_score\n",
        "mse = mean_squared_error (y_test, y_test_pred)\n",
        "print('MSE for the test set: {:.2f}'.format(mse))\n",
        "\n",
        "r2 = r2_score (y_test, y_test_pred)\n",
        "print('R2_Score for the test set: {:.2f}'.format(r2))\n",
        "\n",
        "import math \n",
        "RMSE = math.sqrt(mse)\n",
        "print('RMSE for the test set: {:.2f}'.format(RMSE))"
      ],
      "execution_count": null,
      "outputs": [
        {
          "output_type": "stream",
          "name": "stdout",
          "text": [
            "MSE for the test set: 18.45\n",
            "R2_Score for the test set: 0.04\n",
            "RMSE for the test set: 4.30\n"
          ]
        }
      ]
    },
    {
      "cell_type": "markdown",
      "metadata": {
        "id": "MldNiC3GzS_P"
      },
      "source": [
        "##  **Model 2:** \n",
        "\n",
        "### Creating a model using Width as the independent variable and Price as dependent variable. "
      ]
    },
    {
      "cell_type": "code",
      "metadata": {
        "colab": {
          "base_uri": "https://localhost:8080/",
          "height": 497
        },
        "id": "vDYw3qzMfhmL",
        "outputId": "69157e01-169f-45d0-d680-2229abbe2623"
      },
      "source": [
        "plt.subplots(figsize = (10,8))\n",
        "sns.regplot(x = data.WIDTH, y = data.PRICE, ci=None);\n",
        "plt.show();"
      ],
      "execution_count": null,
      "outputs": [
        {
          "output_type": "display_data",
          "data": {
            "image/png": "[encoded data removed]",
            "text/plain": [
              "<Figure size 720x576 with 1 Axes>"
            ]
          },
          "metadata": {
            "needs_background": "light"
          }
        }
      ]
    },
    {
      "cell_type": "markdown",
      "metadata": {
        "id": "hw1Q_B18zpoS"
      },
      "source": [
        "### Creating Linear regression Model"
      ]
    },
    {
      "cell_type": "code",
      "metadata": {
        "colab": {
          "base_uri": "https://localhost:8080/"
        },
        "id": "bX0W9UQTzasM",
        "outputId": "9585b3f9-cec5-41ac-95db-fef4cc979582"
      },
      "source": [
        "# Split the data into test and train.\n",
        "# Considering training/test as 80/20.\n",
        "\n",
        "X_train.shape\n",
        "X_train, X_test, y_train, y_test = train_test_split(data[['WIDTH']], data['PRICE'], train_size = 0.8)\n",
        "\n",
        "X_train.shape, X_test.shape, y_train.shape, y_test.shape"
      ],
      "execution_count": null,
      "outputs": [
        {
          "output_type": "execute_result",
          "data": {
            "text/plain": [
              "((344, 1), (86, 1), (344,), (86,))"
            ]
          },
          "metadata": {},
          "execution_count": 67
        }
      ]
    },
    {
      "cell_type": "code",
      "metadata": {
        "id": "4dYppPl4zohC"
      },
      "source": [
        "# builing Linear Regression\n",
        "\n",
        "from sklearn.linear_model import LinearRegression \n",
        "lr = LinearRegression()\n",
        "mode11  = lr.fit (X_train, y_train) # Fit the model into the training data"
      ],
      "execution_count": null,
      "outputs": []
    },
    {
      "cell_type": "code",
      "metadata": {
        "id": "xAq6Q6Mlzoje"
      },
      "source": [
        "y_test_pred = mode11.predict (X_test) # Predicting the y value using x for test data."
      ],
      "execution_count": null,
      "outputs": []
    },
    {
      "cell_type": "code",
      "metadata": {
        "colab": {
          "base_uri": "https://localhost:8080/"
        },
        "id": "-xiqFU83zomM",
        "outputId": "9947b03e-4564-4b2f-a3af-d7103bfe7ee4"
      },
      "source": [
        "# Calculate the error of the prediction with test data.\n",
        "# Finding mean square error, R2_Score and Root mean square error.\n",
        "\n",
        "from sklearn.metrics import mean_squared_error, r2_score\n",
        "mse = mean_squared_error (y_test, y_test_pred)\n",
        "print('MSE for the test set: {:.2f}'.format(mse))\n",
        "\n",
        "r2 = r2_score (y_test, y_test_pred)\n",
        "print('R2_Score for the test set: {:.2f}'.format(r2))\n",
        "\n",
        "import math \n",
        "RMSE = math.sqrt(mse)\n",
        "print('RMSE for the test set: {:.2f}'.format(RMSE))"
      ],
      "execution_count": null,
      "outputs": [
        {
          "output_type": "stream",
          "name": "stdout",
          "text": [
            "MSE for the test set: 15.69\n",
            "R2_Score for the test set: 0.09\n",
            "RMSE for the test set: 3.96\n"
          ]
        }
      ]
    },
    {
      "cell_type": "markdown",
      "metadata": {
        "id": "ce6av6jWz1wz"
      },
      "source": [
        "## Model 3: Multivariate Linear Regression model\n",
        "\n",
        "\n"
      ]
    },
    {
      "cell_type": "code",
      "metadata": {
        "id": "78A2CPzLzoyn"
      },
      "source": [
        "# Create dummy columns of the HOUSE variable\n",
        "Houses_dummy = pd.get_dummies(data['HOUSE '], prefix='HOUSE')\n",
        "data=data.join(Houses_dummy) # Join the all join House colums "
      ],
      "execution_count": null,
      "outputs": []
    },
    {
      "cell_type": "code",
      "metadata": {
        "id": "op9wbqZazo1K"
      },
      "source": [
        "data.head()"
      ],
      "execution_count": null,
      "outputs": []
    },
    {
      "cell_type": "code",
      "metadata": {
        "colab": {
          "base_uri": "https://localhost:8080/",
          "height": 204
        },
        "id": "cpWv3qgf4-uv",
        "outputId": "59b65154-b053-4ae2-afc6-845f21202ecf"
      },
      "source": [
        "y = data[\"PRICE\"]\n",
        "x = data[[\"SIGNED\",\"PICTURE\",\"SIZE\",\"HOUSE_1\",\"HOUSE_2\",\"HOUSE_3\"]]\n",
        "x.head()"
      ],
      "execution_count": null,
      "outputs": [
        {
          "output_type": "execute_result",
          "data": {
            "text/html": [
              "<div>\n",
              "<style scoped>\n",
              "    .dataframe tbody tr th:only-of-type {\n",
              "        vertical-align: middle;\n",
              "    }\n",
              "\n",
              "    .dataframe tbody tr th {\n",
              "        vertical-align: top;\n",
              "    }\n",
              "\n",
              "    .dataframe thead th {\n",
              "        text-align: right;\n",
              "    }\n",
              "</style>\n",
              "<table border=\"1\" class=\"dataframe\">\n",
              "  <thead>\n",
              "    <tr style=\"text-align: right;\">\n",
              "      <th></th>\n",
              "      <th>SIGNED</th>\n",
              "      <th>PICTURE</th>\n",
              "      <th>SIZE</th>\n",
              "      <th>HOUSE_1</th>\n",
              "      <th>HOUSE_2</th>\n",
              "      <th>HOUSE_3</th>\n",
              "    </tr>\n",
              "  </thead>\n",
              "  <tbody>\n",
              "    <tr>\n",
              "      <th>0</th>\n",
              "      <td>1</td>\n",
              "      <td>1</td>\n",
              "      <td>545.28</td>\n",
              "      <td>1</td>\n",
              "      <td>0</td>\n",
              "      <td>0</td>\n",
              "    </tr>\n",
              "    <tr>\n",
              "      <th>1</th>\n",
              "      <td>1</td>\n",
              "      <td>2</td>\n",
              "      <td>816.64</td>\n",
              "      <td>0</td>\n",
              "      <td>1</td>\n",
              "      <td>0</td>\n",
              "    </tr>\n",
              "    <tr>\n",
              "      <th>2</th>\n",
              "      <td>0</td>\n",
              "      <td>3</td>\n",
              "      <td>109.71</td>\n",
              "      <td>0</td>\n",
              "      <td>0</td>\n",
              "      <td>1</td>\n",
              "    </tr>\n",
              "    <tr>\n",
              "      <th>3</th>\n",
              "      <td>1</td>\n",
              "      <td>4</td>\n",
              "      <td>822.40</td>\n",
              "      <td>0</td>\n",
              "      <td>1</td>\n",
              "      <td>0</td>\n",
              "    </tr>\n",
              "    <tr>\n",
              "      <th>4</th>\n",
              "      <td>1</td>\n",
              "      <td>4</td>\n",
              "      <td>822.40</td>\n",
              "      <td>0</td>\n",
              "      <td>1</td>\n",
              "      <td>0</td>\n",
              "    </tr>\n",
              "  </tbody>\n",
              "</table>\n",
              "</div>"
            ],
            "text/plain": [
              "   SIGNED  PICTURE    SIZE  HOUSE_1  HOUSE_2  HOUSE_3\n",
              "0       1        1  545.28        1        0        0\n",
              "1       1        2  816.64        0        1        0\n",
              "2       0        3  109.71        0        0        1\n",
              "3       1        4  822.40        0        1        0\n",
              "4       1        4  822.40        0        1        0"
            ]
          },
          "metadata": {},
          "execution_count": 94
        }
      ]
    },
    {
      "cell_type": "code",
      "metadata": {
        "colab": {
          "base_uri": "https://localhost:8080/"
        },
        "id": "V-aptL9L4-xk",
        "outputId": "84ba640d-fe5a-4164-d90c-923dc89f3e33"
      },
      "source": [
        "X_train, X_test, y_train, y_test = train_test_split(data[['WIDTH']], data['PRICE'], train_size = 0.8)\n",
        "X_train.shape, X_test.shape, y_train.shape, y_test.shape"
      ],
      "execution_count": null,
      "outputs": [
        {
          "output_type": "execute_result",
          "data": {
            "text/plain": [
              "((344, 1), (86, 1), (344,), (86,))"
            ]
          },
          "metadata": {},
          "execution_count": 95
        }
      ]
    },
    {
      "cell_type": "code",
      "metadata": {
        "id": "AfhnuhQL4-0P"
      },
      "source": [
        "# Builing Multiple Linear Regression \n",
        "\n",
        "from sklearn.linear_model import LinearRegression \n",
        "mlr = LinearRegression()\n",
        "mode13  = mlr.fit (X_train, y_train) # Fit the model into the training data"
      ],
      "execution_count": null,
      "outputs": []
    },
    {
      "cell_type": "code",
      "metadata": {
        "id": "Wkk8s9r94-3C"
      },
      "source": [
        "y_test_pred = mode11.predict (X_test) # Predicting the y value using x for test data."
      ],
      "execution_count": null,
      "outputs": []
    },
    {
      "cell_type": "code",
      "metadata": {
        "colab": {
          "base_uri": "https://localhost:8080/"
        },
        "id": "gjEsOUDw4-5m",
        "outputId": "5669bc2b-4f59-4f3a-a314-7b445478de2d"
      },
      "source": [
        "# Calculate the error of the prediction with test data.\n",
        "# Finding mean square error, R2_Score and Root mean square error.\n",
        "\n",
        "from sklearn.metrics import mean_squared_error, r2_score\n",
        "mse = mean_squared_error (y_test, y_test_pred)\n",
        "print('MSE for the test set: {:.2f}'.format(mse))\n",
        "\n",
        "r2 = r2_score (y_test, y_test_pred)\n",
        "print('R2_Score for the test set: {:.2f}'.format(r2))\n",
        "\n",
        "import math \n",
        "RMSE = math.sqrt(mse)\n",
        "print('RMSE for the test set: {:.2f}'.format(RMSE))"
      ],
      "execution_count": null,
      "outputs": [
        {
          "output_type": "stream",
          "name": "stdout",
          "text": [
            "MSE for the test set: 11.61\n",
            "R2_Score for the test set: 0.11\n",
            "RMSE for the test set: 3.41\n"
          ]
        }
      ]
    },
    {
      "cell_type": "code",
      "metadata": {
        "id": "km9HMRvb4-8N"
      },
      "source": [
        "______________END________________"
      ],
      "execution_count": null,
      "outputs": []
    },
    {
      "cell_type": "code",
      "metadata": {
        "id": "Prf8UW3q4--8"
      },
      "source": [
        ""
      ],
      "execution_count": null,
      "outputs": []
    },
    {
      "cell_type": "code",
      "metadata": {
        "id": "XEHKx37_4_BO"
      },
      "source": [
        ""
      ],
      "execution_count": null,
      "outputs": []
    },
    {
      "cell_type": "code",
      "metadata": {
        "id": "NE3wGLgk4_Dp"
      },
      "source": [
        ""
      ],
      "execution_count": null,
      "outputs": []
    }
  ]
}